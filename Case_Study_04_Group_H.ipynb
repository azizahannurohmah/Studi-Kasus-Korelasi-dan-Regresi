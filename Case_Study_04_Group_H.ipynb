{
  "nbformat": 4,
  "nbformat_minor": 0,
  "metadata": {
    "colab": {
      "provenance": [],
      "include_colab_link": true
    },
    "kernelspec": {
      "name": "python3",
      "display_name": "Python 3"
    },
    "language_info": {
      "name": "python"
    }
  },
  "cells": [
    {
      "cell_type": "markdown",
      "metadata": {
        "id": "view-in-github",
        "colab_type": "text"
      },
      "source": [
        "<a href=\"https://colab.research.google.com/github/azizahannurohmah/Studi-Kasus-Korelasi-dan-Regresi/blob/main/Case_Study_04_Group_H.ipynb\" target=\"_parent\"><img src=\"https://colab.research.google.com/assets/colab-badge.svg\" alt=\"Open In Colab\"/></a>"
      ]
    },
    {
      "cell_type": "markdown",
      "source": [
        "# **Studi Kasus 04: Korelasi dan Regresi**\n",
        "# **GROUP H**\n",
        "1. Azizah Annurohmah (2006572983)\n",
        "2. Muhammad Ammar Daffa (2006571066)\n",
        "3. Muhammad Jauhar Hakim (2006463982)\n",
        "4. Najwa Mufidah (2006463931)\n",
        "5. Natania Agustin (2006572895)\n",
        "6. Nurrochmi Andina (2006571103)\n",
        "7. Olivia Felica (2006464114)"
      ],
      "metadata": {
        "id": "nPrTkLDVeJWv"
      }
    },
    {
      "cell_type": "markdown",
      "source": [
        "# **Import Module**"
      ],
      "metadata": {
        "id": "CsFcHzfgv3tG"
      }
    },
    {
      "cell_type": "code",
      "execution_count": null,
      "metadata": {
        "id": "76CFJi_IeHJR"
      },
      "outputs": [],
      "source": [
        "import warnings; warnings.simplefilter('ignore')\n",
        "import pandas as pd, seaborn as sns, matplotlib.pyplot as plt, numpy as np\n",
        "plt.style.use('bmh'); sns.set()\n",
        "\n",
        "import statsmodels.formula.api as smf\n",
        "from statsmodels.formula.api import ols\n",
        "import statsmodels.api as sm, scipy.stats as stats\n",
        "\n",
        "from sklearn.preprocessing import MinMaxScaler\n",
        "scaler = MinMaxScaler()\n",
        "\n",
        "from sklearn.model_selection import train_test_split"
      ]
    },
    {
      "cell_type": "markdown",
      "source": [
        "# **Import Data**"
      ],
      "metadata": {
        "id": "YyPkabp1wCHZ"
      }
    },
    {
      "cell_type": "code",
      "source": [
        "file_ = 'data/Ashrae_Energy_Mean.csv'\n",
        "try: #Loading Locally\n",
        "    df = pd.read_csv(file_)\n",
        "except Exception as err_:\n",
        "    print(err_, \" Trying to load data from GitHub.\")\n",
        "    !mkdir data\n",
        "    !wget -P data/ https://raw.githubusercontent.com/taudataid/eLearning/master/data/Ashrae_Energy_Mean.csv\n",
        "    df = pd.read_csv(file_)\n",
        "\n",
        "print(df.shape)\n",
        "df.head()"
      ],
      "metadata": {
        "colab": {
          "base_uri": "https://localhost:8080/",
          "height": 496
        },
        "id": "euzqcQN4wEb3",
        "outputId": "cd691823-b8f6-4c9f-d960-e11c4aadd7cd"
      },
      "execution_count": null,
      "outputs": [
        {
          "output_type": "stream",
          "name": "stdout",
          "text": [
            "[Errno 2] No such file or directory: 'data/Ashrae_Energy_Mean.csv'  Trying to load data from GitHub.\n",
            "--2022-11-18 08:24:49--  https://raw.githubusercontent.com/taudataid/eLearning/master/data/Ashrae_Energy_Mean.csv\n",
            "Resolving raw.githubusercontent.com (raw.githubusercontent.com)... 185.199.108.133, 185.199.109.133, 185.199.110.133, ...\n",
            "Connecting to raw.githubusercontent.com (raw.githubusercontent.com)|185.199.108.133|:443... connected.\n",
            "HTTP request sent, awaiting response... 200 OK\n",
            "Length: 241207 (236K) [text/plain]\n",
            "Saving to: ‘data/Ashrae_Energy_Mean.csv’\n",
            "\n",
            "Ashrae_Energy_Mean. 100%[===================>] 235.55K  --.-KB/s    in 0.02s   \n",
            "\n",
            "2022-11-18 08:24:49 (14.4 MB/s) - ‘data/Ashrae_Energy_Mean.csv’ saved [241207/241207]\n",
            "\n",
            "(1413, 12)\n"
          ]
        },
        {
          "output_type": "execute_result",
          "data": {
            "text/plain": [
              "   meter_reading primary_use  square_feet  year_built  floor_count  \\\n",
              "0     237.749127   Education         7432      2008.0          NaN   \n",
              "1     118.553743   Education         2720      2004.0          NaN   \n",
              "2      23.626500   Education         5376      1991.0          NaN   \n",
              "3     382.736016   Education        23685      2002.0          NaN   \n",
              "4    1579.174237   Education       116607      1975.0          NaN   \n",
              "\n",
              "   air_temperature  cloud_coverage  dew_temperature  precip_depth_1_hr  \\\n",
              "0        22.744816        2.998727        17.379328           1.240589   \n",
              "1        22.744816        2.998727        17.379328           1.240589   \n",
              "2        22.744816        2.998727        17.379328           1.240589   \n",
              "3        22.744816        2.998727        17.379328           1.240589   \n",
              "4        22.744816        2.998727        17.379328           1.240589   \n",
              "\n",
              "   sea_level_pressure  wind_direction  wind_speed  \n",
              "0         1017.949437      152.521015    3.391472  \n",
              "1         1017.949437      152.521015    3.391472  \n",
              "2         1017.949437      152.521015    3.391472  \n",
              "3         1017.949437      152.521015    3.391472  \n",
              "4         1017.949437      152.521015    3.391472  "
            ],
            "text/html": [
              "\n",
              "  <div id=\"df-5db45a02-2307-4c4f-8680-e20c4182e0ec\">\n",
              "    <div class=\"colab-df-container\">\n",
              "      <div>\n",
              "<style scoped>\n",
              "    .dataframe tbody tr th:only-of-type {\n",
              "        vertical-align: middle;\n",
              "    }\n",
              "\n",
              "    .dataframe tbody tr th {\n",
              "        vertical-align: top;\n",
              "    }\n",
              "\n",
              "    .dataframe thead th {\n",
              "        text-align: right;\n",
              "    }\n",
              "</style>\n",
              "<table border=\"1\" class=\"dataframe\">\n",
              "  <thead>\n",
              "    <tr style=\"text-align: right;\">\n",
              "      <th></th>\n",
              "      <th>meter_reading</th>\n",
              "      <th>primary_use</th>\n",
              "      <th>square_feet</th>\n",
              "      <th>year_built</th>\n",
              "      <th>floor_count</th>\n",
              "      <th>air_temperature</th>\n",
              "      <th>cloud_coverage</th>\n",
              "      <th>dew_temperature</th>\n",
              "      <th>precip_depth_1_hr</th>\n",
              "      <th>sea_level_pressure</th>\n",
              "      <th>wind_direction</th>\n",
              "      <th>wind_speed</th>\n",
              "    </tr>\n",
              "  </thead>\n",
              "  <tbody>\n",
              "    <tr>\n",
              "      <th>0</th>\n",
              "      <td>237.749127</td>\n",
              "      <td>Education</td>\n",
              "      <td>7432</td>\n",
              "      <td>2008.0</td>\n",
              "      <td>NaN</td>\n",
              "      <td>22.744816</td>\n",
              "      <td>2.998727</td>\n",
              "      <td>17.379328</td>\n",
              "      <td>1.240589</td>\n",
              "      <td>1017.949437</td>\n",
              "      <td>152.521015</td>\n",
              "      <td>3.391472</td>\n",
              "    </tr>\n",
              "    <tr>\n",
              "      <th>1</th>\n",
              "      <td>118.553743</td>\n",
              "      <td>Education</td>\n",
              "      <td>2720</td>\n",
              "      <td>2004.0</td>\n",
              "      <td>NaN</td>\n",
              "      <td>22.744816</td>\n",
              "      <td>2.998727</td>\n",
              "      <td>17.379328</td>\n",
              "      <td>1.240589</td>\n",
              "      <td>1017.949437</td>\n",
              "      <td>152.521015</td>\n",
              "      <td>3.391472</td>\n",
              "    </tr>\n",
              "    <tr>\n",
              "      <th>2</th>\n",
              "      <td>23.626500</td>\n",
              "      <td>Education</td>\n",
              "      <td>5376</td>\n",
              "      <td>1991.0</td>\n",
              "      <td>NaN</td>\n",
              "      <td>22.744816</td>\n",
              "      <td>2.998727</td>\n",
              "      <td>17.379328</td>\n",
              "      <td>1.240589</td>\n",
              "      <td>1017.949437</td>\n",
              "      <td>152.521015</td>\n",
              "      <td>3.391472</td>\n",
              "    </tr>\n",
              "    <tr>\n",
              "      <th>3</th>\n",
              "      <td>382.736016</td>\n",
              "      <td>Education</td>\n",
              "      <td>23685</td>\n",
              "      <td>2002.0</td>\n",
              "      <td>NaN</td>\n",
              "      <td>22.744816</td>\n",
              "      <td>2.998727</td>\n",
              "      <td>17.379328</td>\n",
              "      <td>1.240589</td>\n",
              "      <td>1017.949437</td>\n",
              "      <td>152.521015</td>\n",
              "      <td>3.391472</td>\n",
              "    </tr>\n",
              "    <tr>\n",
              "      <th>4</th>\n",
              "      <td>1579.174237</td>\n",
              "      <td>Education</td>\n",
              "      <td>116607</td>\n",
              "      <td>1975.0</td>\n",
              "      <td>NaN</td>\n",
              "      <td>22.744816</td>\n",
              "      <td>2.998727</td>\n",
              "      <td>17.379328</td>\n",
              "      <td>1.240589</td>\n",
              "      <td>1017.949437</td>\n",
              "      <td>152.521015</td>\n",
              "      <td>3.391472</td>\n",
              "    </tr>\n",
              "  </tbody>\n",
              "</table>\n",
              "</div>\n",
              "      <button class=\"colab-df-convert\" onclick=\"convertToInteractive('df-5db45a02-2307-4c4f-8680-e20c4182e0ec')\"\n",
              "              title=\"Convert this dataframe to an interactive table.\"\n",
              "              style=\"display:none;\">\n",
              "        \n",
              "  <svg xmlns=\"http://www.w3.org/2000/svg\" height=\"24px\"viewBox=\"0 0 24 24\"\n",
              "       width=\"24px\">\n",
              "    <path d=\"M0 0h24v24H0V0z\" fill=\"none\"/>\n",
              "    <path d=\"M18.56 5.44l.94 2.06.94-2.06 2.06-.94-2.06-.94-.94-2.06-.94 2.06-2.06.94zm-11 1L8.5 8.5l.94-2.06 2.06-.94-2.06-.94L8.5 2.5l-.94 2.06-2.06.94zm10 10l.94 2.06.94-2.06 2.06-.94-2.06-.94-.94-2.06-.94 2.06-2.06.94z\"/><path d=\"M17.41 7.96l-1.37-1.37c-.4-.4-.92-.59-1.43-.59-.52 0-1.04.2-1.43.59L10.3 9.45l-7.72 7.72c-.78.78-.78 2.05 0 2.83L4 21.41c.39.39.9.59 1.41.59.51 0 1.02-.2 1.41-.59l7.78-7.78 2.81-2.81c.8-.78.8-2.07 0-2.86zM5.41 20L4 18.59l7.72-7.72 1.47 1.35L5.41 20z\"/>\n",
              "  </svg>\n",
              "      </button>\n",
              "      \n",
              "  <style>\n",
              "    .colab-df-container {\n",
              "      display:flex;\n",
              "      flex-wrap:wrap;\n",
              "      gap: 12px;\n",
              "    }\n",
              "\n",
              "    .colab-df-convert {\n",
              "      background-color: #E8F0FE;\n",
              "      border: none;\n",
              "      border-radius: 50%;\n",
              "      cursor: pointer;\n",
              "      display: none;\n",
              "      fill: #1967D2;\n",
              "      height: 32px;\n",
              "      padding: 0 0 0 0;\n",
              "      width: 32px;\n",
              "    }\n",
              "\n",
              "    .colab-df-convert:hover {\n",
              "      background-color: #E2EBFA;\n",
              "      box-shadow: 0px 1px 2px rgba(60, 64, 67, 0.3), 0px 1px 3px 1px rgba(60, 64, 67, 0.15);\n",
              "      fill: #174EA6;\n",
              "    }\n",
              "\n",
              "    [theme=dark] .colab-df-convert {\n",
              "      background-color: #3B4455;\n",
              "      fill: #D2E3FC;\n",
              "    }\n",
              "\n",
              "    [theme=dark] .colab-df-convert:hover {\n",
              "      background-color: #434B5C;\n",
              "      box-shadow: 0px 1px 3px 1px rgba(0, 0, 0, 0.15);\n",
              "      filter: drop-shadow(0px 1px 2px rgba(0, 0, 0, 0.3));\n",
              "      fill: #FFFFFF;\n",
              "    }\n",
              "  </style>\n",
              "\n",
              "      <script>\n",
              "        const buttonEl =\n",
              "          document.querySelector('#df-5db45a02-2307-4c4f-8680-e20c4182e0ec button.colab-df-convert');\n",
              "        buttonEl.style.display =\n",
              "          google.colab.kernel.accessAllowed ? 'block' : 'none';\n",
              "\n",
              "        async function convertToInteractive(key) {\n",
              "          const element = document.querySelector('#df-5db45a02-2307-4c4f-8680-e20c4182e0ec');\n",
              "          const dataTable =\n",
              "            await google.colab.kernel.invokeFunction('convertToInteractive',\n",
              "                                                     [key], {});\n",
              "          if (!dataTable) return;\n",
              "\n",
              "          const docLinkHtml = 'Like what you see? Visit the ' +\n",
              "            '<a target=\"_blank\" href=https://colab.research.google.com/notebooks/data_table.ipynb>data table notebook</a>'\n",
              "            + ' to learn more about interactive tables.';\n",
              "          element.innerHTML = '';\n",
              "          dataTable['output_type'] = 'display_data';\n",
              "          await google.colab.output.renderOutput(dataTable, element);\n",
              "          const docLink = document.createElement('div');\n",
              "          docLink.innerHTML = docLinkHtml;\n",
              "          element.appendChild(docLink);\n",
              "        }\n",
              "      </script>\n",
              "    </div>\n",
              "  </div>\n",
              "  "
            ]
          },
          "metadata": {},
          "execution_count": 2
        }
      ]
    },
    {
      "cell_type": "markdown",
      "source": [
        "Di dalam dataset terdapat penggunaan energi yang digunakan dalam suatu bagunan (meter_reading) dengan keterangan bangunan dan juga keterangan cuaca.\n",
        "\n",
        "Keterangan Bangunan :\n",
        "1. Primary Use (Kegunaan Utama)\n",
        "2. Square Feet (Luas Bangunan)\n",
        "3. Year Built  (Tahun Dibangun)\n",
        "4. Floor Count (Jumlah Lantai)\n",
        "\n",
        "Keterangan Cuaca :\n",
        "1. Air Temperature (Suhu Udara)\n",
        "2. Cloud Coverage  (Cakupan Awan)\n",
        "3. Dew Temperature (Suhu Embun)\n",
        "4. Precip Depth    (Kedalaman Endapan)\n",
        "5. Sea Level Pressure (Tekanan Permukaan Laut)\n",
        "6. Wind Direction (Arah Angin)\n",
        "7. Wind Speed (Kecepatan Angin)"
      ],
      "metadata": {
        "id": "CX-SUbeywNN9"
      }
    },
    {
      "cell_type": "markdown",
      "source": [
        "# **EDA - Pre Processing**"
      ],
      "metadata": {
        "id": "IF507pynwTXD"
      }
    },
    {
      "cell_type": "code",
      "source": [
        "# Melihat banyaknya data yang kosong dan tipe data tiap variabel\n",
        "df.info()"
      ],
      "metadata": {
        "colab": {
          "base_uri": "https://localhost:8080/"
        },
        "id": "uE_TEwhowOcs",
        "outputId": "1b18fa9c-1a35-4481-c5e1-7182a713a1fe"
      },
      "execution_count": null,
      "outputs": [
        {
          "output_type": "stream",
          "name": "stdout",
          "text": [
            "<class 'pandas.core.frame.DataFrame'>\n",
            "RangeIndex: 1413 entries, 0 to 1412\n",
            "Data columns (total 12 columns):\n",
            " #   Column              Non-Null Count  Dtype  \n",
            "---  ------              --------------  -----  \n",
            " 0   meter_reading       1413 non-null   float64\n",
            " 1   primary_use         1413 non-null   object \n",
            " 2   square_feet         1413 non-null   int64  \n",
            " 3   year_built          663 non-null    float64\n",
            " 4   floor_count         352 non-null    float64\n",
            " 5   air_temperature     1413 non-null   float64\n",
            " 6   cloud_coverage      1396 non-null   float64\n",
            " 7   dew_temperature     1413 non-null   float64\n",
            " 8   precip_depth_1_hr   1237 non-null   float64\n",
            " 9   sea_level_pressure  1324 non-null   float64\n",
            " 10  wind_direction      1413 non-null   float64\n",
            " 11  wind_speed          1413 non-null   float64\n",
            "dtypes: float64(10), int64(1), object(1)\n",
            "memory usage: 132.6+ KB\n"
          ]
        }
      ]
    },
    {
      "cell_type": "code",
      "source": [
        "# Memeriksa nilai unik dari variabel kategorik primary_use\n",
        "df['primary_use'].unique()"
      ],
      "metadata": {
        "colab": {
          "base_uri": "https://localhost:8080/"
        },
        "id": "gaHPv83SwX-V",
        "outputId": "5cbd1692-afa1-45a7-ad6e-217ba06270a5"
      },
      "execution_count": null,
      "outputs": [
        {
          "output_type": "execute_result",
          "data": {
            "text/plain": [
              "array(['Education', 'Lodging/residential', 'Office',\n",
              "       'Entertainment/public assembly', 'Other', 'Retail', 'Parking',\n",
              "       'Public services', 'Warehouse/storage', 'Food sales and service',\n",
              "       'Religious worship', 'Healthcare', 'Utility', 'Technology/science',\n",
              "       'Manufacturing/industrial', 'Services'], dtype=object)"
            ]
          },
          "metadata": {},
          "execution_count": 4
        }
      ]
    },
    {
      "cell_type": "markdown",
      "source": [
        "Terdapat tipe data yang tidak sesuai yaitu variabel primary_use, sehingga akan diganti tipe datanya menjadi kategori."
      ],
      "metadata": {
        "id": "TJaFlMQqwb06"
      }
    },
    {
      "cell_type": "code",
      "source": [
        "# Mengganti tipe data variabel primary_use\n",
        "df['primary_use'] = df['primary_use'].astype('category')"
      ],
      "metadata": {
        "id": "dSxMpA3UwaWf"
      },
      "execution_count": null,
      "outputs": []
    },
    {
      "cell_type": "code",
      "source": [
        "# Memeriksa Jumlah Missing Value\n",
        "df.isna().sum()"
      ],
      "metadata": {
        "colab": {
          "base_uri": "https://localhost:8080/"
        },
        "id": "j5f6VpICwffw",
        "outputId": "6cc6b85f-7335-4e42-accf-2a6a43ed8944"
      },
      "execution_count": null,
      "outputs": [
        {
          "output_type": "execute_result",
          "data": {
            "text/plain": [
              "meter_reading            0\n",
              "primary_use              0\n",
              "square_feet              0\n",
              "year_built             750\n",
              "floor_count           1061\n",
              "air_temperature          0\n",
              "cloud_coverage          17\n",
              "dew_temperature          0\n",
              "precip_depth_1_hr      176\n",
              "sea_level_pressure      89\n",
              "wind_direction           0\n",
              "wind_speed               0\n",
              "dtype: int64"
            ]
          },
          "metadata": {},
          "execution_count": 6
        }
      ]
    },
    {
      "cell_type": "markdown",
      "source": [
        "Terdapat banyak data yang kosong pada kolom year_built dan floor_count"
      ],
      "metadata": {
        "id": "VTxZC0MHwioJ"
      }
    },
    {
      "cell_type": "code",
      "source": [
        "# Memeriksa nilai unik dari variabel floor_count untuk melihat apakah ada noise dari data variabel tersebut\n",
        "print(df['floor_count'].unique())"
      ],
      "metadata": {
        "colab": {
          "base_uri": "https://localhost:8080/"
        },
        "id": "b9vg-_FHwjhl",
        "outputId": "8152b80a-4065-4a3e-e106-79e68c0bc299"
      },
      "execution_count": null,
      "outputs": [
        {
          "output_type": "stream",
          "name": "stdout",
          "text": [
            "[nan  5.  4. 10.  6.  8.  7.  9. 13. 16. 11. 12.  2.  3.  1. 14. 21. 26.\n",
            " 19.]\n"
          ]
        }
      ]
    },
    {
      "cell_type": "markdown",
      "source": [
        "Terlihat bahwa tidak ada data noise pada variabel floor_count"
      ],
      "metadata": {
        "id": "4t0LSfUgwnjr"
      }
    },
    {
      "cell_type": "code",
      "source": [
        "# Drop kolom floor_count dan year_built karena terlalu banyak missing value\n",
        "df.drop(\"floor_count\", axis=1, inplace=True)\n",
        "df.drop(\"year_built\", axis=1, inplace=True)\n",
        "df.head()"
      ],
      "metadata": {
        "colab": {
          "base_uri": "https://localhost:8080/",
          "height": 250
        },
        "id": "aJ2mNTEZwru_",
        "outputId": "0ddd1f42-0efa-4ca6-8eea-5a56d4d950cc"
      },
      "execution_count": null,
      "outputs": [
        {
          "output_type": "execute_result",
          "data": {
            "text/plain": [
              "   meter_reading primary_use  square_feet  air_temperature  cloud_coverage  \\\n",
              "0     237.749127   Education         7432        22.744816        2.998727   \n",
              "1     118.553743   Education         2720        22.744816        2.998727   \n",
              "2      23.626500   Education         5376        22.744816        2.998727   \n",
              "3     382.736016   Education        23685        22.744816        2.998727   \n",
              "4    1579.174237   Education       116607        22.744816        2.998727   \n",
              "\n",
              "   dew_temperature  precip_depth_1_hr  sea_level_pressure  wind_direction  \\\n",
              "0        17.379328           1.240589         1017.949437      152.521015   \n",
              "1        17.379328           1.240589         1017.949437      152.521015   \n",
              "2        17.379328           1.240589         1017.949437      152.521015   \n",
              "3        17.379328           1.240589         1017.949437      152.521015   \n",
              "4        17.379328           1.240589         1017.949437      152.521015   \n",
              "\n",
              "   wind_speed  \n",
              "0    3.391472  \n",
              "1    3.391472  \n",
              "2    3.391472  \n",
              "3    3.391472  \n",
              "4    3.391472  "
            ],
            "text/html": [
              "\n",
              "  <div id=\"df-b74a71c0-0915-4d2b-b262-e1ffb626160b\">\n",
              "    <div class=\"colab-df-container\">\n",
              "      <div>\n",
              "<style scoped>\n",
              "    .dataframe tbody tr th:only-of-type {\n",
              "        vertical-align: middle;\n",
              "    }\n",
              "\n",
              "    .dataframe tbody tr th {\n",
              "        vertical-align: top;\n",
              "    }\n",
              "\n",
              "    .dataframe thead th {\n",
              "        text-align: right;\n",
              "    }\n",
              "</style>\n",
              "<table border=\"1\" class=\"dataframe\">\n",
              "  <thead>\n",
              "    <tr style=\"text-align: right;\">\n",
              "      <th></th>\n",
              "      <th>meter_reading</th>\n",
              "      <th>primary_use</th>\n",
              "      <th>square_feet</th>\n",
              "      <th>air_temperature</th>\n",
              "      <th>cloud_coverage</th>\n",
              "      <th>dew_temperature</th>\n",
              "      <th>precip_depth_1_hr</th>\n",
              "      <th>sea_level_pressure</th>\n",
              "      <th>wind_direction</th>\n",
              "      <th>wind_speed</th>\n",
              "    </tr>\n",
              "  </thead>\n",
              "  <tbody>\n",
              "    <tr>\n",
              "      <th>0</th>\n",
              "      <td>237.749127</td>\n",
              "      <td>Education</td>\n",
              "      <td>7432</td>\n",
              "      <td>22.744816</td>\n",
              "      <td>2.998727</td>\n",
              "      <td>17.379328</td>\n",
              "      <td>1.240589</td>\n",
              "      <td>1017.949437</td>\n",
              "      <td>152.521015</td>\n",
              "      <td>3.391472</td>\n",
              "    </tr>\n",
              "    <tr>\n",
              "      <th>1</th>\n",
              "      <td>118.553743</td>\n",
              "      <td>Education</td>\n",
              "      <td>2720</td>\n",
              "      <td>22.744816</td>\n",
              "      <td>2.998727</td>\n",
              "      <td>17.379328</td>\n",
              "      <td>1.240589</td>\n",
              "      <td>1017.949437</td>\n",
              "      <td>152.521015</td>\n",
              "      <td>3.391472</td>\n",
              "    </tr>\n",
              "    <tr>\n",
              "      <th>2</th>\n",
              "      <td>23.626500</td>\n",
              "      <td>Education</td>\n",
              "      <td>5376</td>\n",
              "      <td>22.744816</td>\n",
              "      <td>2.998727</td>\n",
              "      <td>17.379328</td>\n",
              "      <td>1.240589</td>\n",
              "      <td>1017.949437</td>\n",
              "      <td>152.521015</td>\n",
              "      <td>3.391472</td>\n",
              "    </tr>\n",
              "    <tr>\n",
              "      <th>3</th>\n",
              "      <td>382.736016</td>\n",
              "      <td>Education</td>\n",
              "      <td>23685</td>\n",
              "      <td>22.744816</td>\n",
              "      <td>2.998727</td>\n",
              "      <td>17.379328</td>\n",
              "      <td>1.240589</td>\n",
              "      <td>1017.949437</td>\n",
              "      <td>152.521015</td>\n",
              "      <td>3.391472</td>\n",
              "    </tr>\n",
              "    <tr>\n",
              "      <th>4</th>\n",
              "      <td>1579.174237</td>\n",
              "      <td>Education</td>\n",
              "      <td>116607</td>\n",
              "      <td>22.744816</td>\n",
              "      <td>2.998727</td>\n",
              "      <td>17.379328</td>\n",
              "      <td>1.240589</td>\n",
              "      <td>1017.949437</td>\n",
              "      <td>152.521015</td>\n",
              "      <td>3.391472</td>\n",
              "    </tr>\n",
              "  </tbody>\n",
              "</table>\n",
              "</div>\n",
              "      <button class=\"colab-df-convert\" onclick=\"convertToInteractive('df-b74a71c0-0915-4d2b-b262-e1ffb626160b')\"\n",
              "              title=\"Convert this dataframe to an interactive table.\"\n",
              "              style=\"display:none;\">\n",
              "        \n",
              "  <svg xmlns=\"http://www.w3.org/2000/svg\" height=\"24px\"viewBox=\"0 0 24 24\"\n",
              "       width=\"24px\">\n",
              "    <path d=\"M0 0h24v24H0V0z\" fill=\"none\"/>\n",
              "    <path d=\"M18.56 5.44l.94 2.06.94-2.06 2.06-.94-2.06-.94-.94-2.06-.94 2.06-2.06.94zm-11 1L8.5 8.5l.94-2.06 2.06-.94-2.06-.94L8.5 2.5l-.94 2.06-2.06.94zm10 10l.94 2.06.94-2.06 2.06-.94-2.06-.94-.94-2.06-.94 2.06-2.06.94z\"/><path d=\"M17.41 7.96l-1.37-1.37c-.4-.4-.92-.59-1.43-.59-.52 0-1.04.2-1.43.59L10.3 9.45l-7.72 7.72c-.78.78-.78 2.05 0 2.83L4 21.41c.39.39.9.59 1.41.59.51 0 1.02-.2 1.41-.59l7.78-7.78 2.81-2.81c.8-.78.8-2.07 0-2.86zM5.41 20L4 18.59l7.72-7.72 1.47 1.35L5.41 20z\"/>\n",
              "  </svg>\n",
              "      </button>\n",
              "      \n",
              "  <style>\n",
              "    .colab-df-container {\n",
              "      display:flex;\n",
              "      flex-wrap:wrap;\n",
              "      gap: 12px;\n",
              "    }\n",
              "\n",
              "    .colab-df-convert {\n",
              "      background-color: #E8F0FE;\n",
              "      border: none;\n",
              "      border-radius: 50%;\n",
              "      cursor: pointer;\n",
              "      display: none;\n",
              "      fill: #1967D2;\n",
              "      height: 32px;\n",
              "      padding: 0 0 0 0;\n",
              "      width: 32px;\n",
              "    }\n",
              "\n",
              "    .colab-df-convert:hover {\n",
              "      background-color: #E2EBFA;\n",
              "      box-shadow: 0px 1px 2px rgba(60, 64, 67, 0.3), 0px 1px 3px 1px rgba(60, 64, 67, 0.15);\n",
              "      fill: #174EA6;\n",
              "    }\n",
              "\n",
              "    [theme=dark] .colab-df-convert {\n",
              "      background-color: #3B4455;\n",
              "      fill: #D2E3FC;\n",
              "    }\n",
              "\n",
              "    [theme=dark] .colab-df-convert:hover {\n",
              "      background-color: #434B5C;\n",
              "      box-shadow: 0px 1px 3px 1px rgba(0, 0, 0, 0.15);\n",
              "      filter: drop-shadow(0px 1px 2px rgba(0, 0, 0, 0.3));\n",
              "      fill: #FFFFFF;\n",
              "    }\n",
              "  </style>\n",
              "\n",
              "      <script>\n",
              "        const buttonEl =\n",
              "          document.querySelector('#df-b74a71c0-0915-4d2b-b262-e1ffb626160b button.colab-df-convert');\n",
              "        buttonEl.style.display =\n",
              "          google.colab.kernel.accessAllowed ? 'block' : 'none';\n",
              "\n",
              "        async function convertToInteractive(key) {\n",
              "          const element = document.querySelector('#df-b74a71c0-0915-4d2b-b262-e1ffb626160b');\n",
              "          const dataTable =\n",
              "            await google.colab.kernel.invokeFunction('convertToInteractive',\n",
              "                                                     [key], {});\n",
              "          if (!dataTable) return;\n",
              "\n",
              "          const docLinkHtml = 'Like what you see? Visit the ' +\n",
              "            '<a target=\"_blank\" href=https://colab.research.google.com/notebooks/data_table.ipynb>data table notebook</a>'\n",
              "            + ' to learn more about interactive tables.';\n",
              "          element.innerHTML = '';\n",
              "          dataTable['output_type'] = 'display_data';\n",
              "          await google.colab.output.renderOutput(dataTable, element);\n",
              "          const docLink = document.createElement('div');\n",
              "          docLink.innerHTML = docLinkHtml;\n",
              "          element.appendChild(docLink);\n",
              "        }\n",
              "      </script>\n",
              "    </div>\n",
              "  </div>\n",
              "  "
            ]
          },
          "metadata": {},
          "execution_count": 8
        }
      ]
    },
    {
      "cell_type": "code",
      "source": [
        "#Drop duplicates\n",
        "print(df.shape) #lihat shape\n",
        "df.drop_duplicates()\n",
        "print(df.shape) #recheck shape"
      ],
      "metadata": {
        "colab": {
          "base_uri": "https://localhost:8080/"
        },
        "id": "BqTUmWPmwwJp",
        "outputId": "8f9e3914-add7-4b78-e782-de3be0b32110"
      },
      "execution_count": null,
      "outputs": [
        {
          "output_type": "stream",
          "name": "stdout",
          "text": [
            "(1413, 10)\n",
            "(1413, 10)\n"
          ]
        }
      ]
    },
    {
      "cell_type": "markdown",
      "source": [
        "Interpretasi:\n",
        "Tidak terdapat data yang memiliki duplikat karena setelah drop duplikat, shape dari data tidak berubah."
      ],
      "metadata": {
        "id": "TMqGGc9QwxvA"
      }
    },
    {
      "cell_type": "code",
      "source": [
        "### Memeriksa distribusi data\n",
        "numerical = df.select_dtypes(include = ['int64','float64']).columns\n",
        "\n",
        "df[numerical].hist(figsize=(15, 15));"
      ],
      "metadata": {
        "colab": {
          "base_uri": "https://localhost:8080/",
          "height": 882
        },
        "id": "PM6RpAkgwytj",
        "outputId": "029bdc05-b44c-4228-f70b-56615326c9a6"
      },
      "execution_count": null,
      "outputs": [
        {
          "output_type": "display_data",
          "data": {
            "text/plain": [
              "<Figure size 1080x1080 with 9 Axes>"
            ],
            "image/png": "[encoded data removed]"
          },
          "metadata": {}
        }
      ]
    },
    {
      "cell_type": "code",
      "source": [
        "#Outliers\n",
        "plt.figure(figsize=(10,6))\n",
        "sns.boxplot(x=\"primary_use\",y=\"meter_reading\",data=df)\n",
        "plt.xticks(rotation='vertical')\n",
        "plt.show()"
      ],
      "metadata": {
        "colab": {
          "base_uri": "https://localhost:8080/",
          "height": 557
        },
        "id": "hDWafzGBw1-2",
        "outputId": "12fc3e21-d56f-4ce1-8030-38c95f293ceb"
      },
      "execution_count": null,
      "outputs": [
        {
          "output_type": "display_data",
          "data": {
            "text/plain": [
              "<Figure size 720x432 with 1 Axes>"
            ],
            "image/png": "[encoded data removed]"
          },
          "metadata": {}
        }
      ]
    },
    {
      "cell_type": "markdown",
      "source": [
        "Interpretasi:\n",
        "\n",
        "Terdapat outlier variabel meter_reading (konsumsi energi) berdasarkan primary_use (kegunaan utama) hampir di semua jenis kegunaan, kecuali pada kegunaan bangunan untuk manufacturing/industrial, parking, religious worship, services, dan technology/science. Outlier terbanyak terdapat pada kategori education (pendidikan).\n",
        "\n"
      ],
      "metadata": {
        "id": "1eARdGamw6qA"
      }
    },
    {
      "cell_type": "code",
      "source": [
        "# Menggantikan nilai kosong dengan median dari variabel tersebut\n",
        "df.fillna(df.median(), inplace= True)"
      ],
      "metadata": {
        "id": "4-ur0Qbuw9G0"
      },
      "execution_count": null,
      "outputs": []
    },
    {
      "cell_type": "markdown",
      "source": [
        "Note :\n",
        "* Pada variabel Primary_Use awalnya merupakan objek dan diubah menjadi kategorik\n",
        "* Pada variabel floor_count ditemukan banyak sekali missing value sehingga akan di drop kolomnya. Kami mendrop kolomnya karena setelah diperiksa nilai unik variabelnya tidak ada keanehan dan terdapat jumlah lantai yang nilainya bervariasi dari 1 hingga 26\n",
        "* Pada variabel year_built ditemukan banyak missing value sehingga akan di drop kolomnya juga.\n",
        "* Pada variabel cloud_coverage, precip_depth_1_hr, sea_level_pressure ditemukan beberapa missing value, setelah memeriksa distribusinya kami memutuskan untuk mengimputasi missing valuenya dengan median.\n",
        "* Diperiksa juga apakah ada data yang duplikat dan ditemukan tidak adanya data duplikat\n",
        "* Diperiksa juga outlier variabel meter_reading berdasarkan primary_use dengan outlier terbanyak ada pada kategori education (pendidikan)."
      ],
      "metadata": {
        "id": "JhX4khymw-fR"
      }
    },
    {
      "cell_type": "markdown",
      "source": [
        "# **EDA - Visualisasi**"
      ],
      "metadata": {
        "id": "a-HKUY70xYL3"
      }
    },
    {
      "cell_type": "markdown",
      "source": [
        "**Bangunan dengan Konsumsi Energi Terbanyak**"
      ],
      "metadata": {
        "id": "rXJ8ZI7zxsNk"
      }
    },
    {
      "cell_type": "code",
      "source": [
        "plt.figure(figsize=(10,6))\n",
        "sns.barplot(x='primary_use',y='meter_reading',data=df)\n",
        "plt.xticks(rotation='vertical')\n",
        "plt.show()"
      ],
      "metadata": {
        "colab": {
          "base_uri": "https://localhost:8080/",
          "height": 557
        },
        "id": "U0gq3nGPxV31",
        "outputId": "a4b1c406-463c-4b30-d738-bc3dac8255cf"
      },
      "execution_count": null,
      "outputs": [
        {
          "output_type": "display_data",
          "data": {
            "text/plain": [
              "<Figure size 720x432 with 1 Axes>"
            ],
            "image/png": "[encoded data removed]"
          },
          "metadata": {}
        }
      ]
    },
    {
      "cell_type": "markdown",
      "source": [
        "Interpretasi:\n",
        "\n",
        "Bangunan yang memiliki konsumsi energi paling banyak adalah bangunan yang memiliki kegunaan utama untuk kesehatan, disusul oleh bangunan yang memiliki kegunaan utama untuk pendidikan, dan bangunan yang memiliki kegunaan utama untuk retail.\n",
        "\n"
      ],
      "metadata": {
        "id": "lrWAoiEZxhbm"
      }
    },
    {
      "cell_type": "markdown",
      "source": [
        "**Bangunan berdasarkan Kegunaannya**"
      ],
      "metadata": {
        "id": "YtJRabnnxyjA"
      }
    },
    {
      "cell_type": "code",
      "source": [
        "plt.figure(figsize=(10,6))\n",
        "ax=sns.countplot(x='primary_use',data=df)\n",
        "plt.xticks(rotation='vertical')\n",
        "plt.show()"
      ],
      "metadata": {
        "colab": {
          "base_uri": "https://localhost:8080/",
          "height": 557
        },
        "id": "HY5VsaiZxfL_",
        "outputId": "3e8654b8-4ab0-4058-e864-d535c79dd506"
      },
      "execution_count": null,
      "outputs": [
        {
          "output_type": "display_data",
          "data": {
            "text/plain": [
              "<Figure size 720x432 with 1 Axes>"
            ],
            "image/png": "[encoded data removed]"
          },
          "metadata": {}
        }
      ]
    },
    {
      "cell_type": "markdown",
      "source": [
        "Interpretasi:\n",
        "\n",
        "Bangunan paling banyak digunakan adalah bangunan yang bertujuan untuk aktivitas edukasi."
      ],
      "metadata": {
        "id": "p7nwWSHwxkaP"
      }
    },
    {
      "cell_type": "markdown",
      "source": [
        "**Memeriksa Korelasi Data**"
      ],
      "metadata": {
        "id": "liQzvMsbxpLO"
      }
    },
    {
      "cell_type": "code",
      "source": [
        "# HeatMap untuk menyelidiki korelasi\n",
        "corr2 = df.corr()\n",
        "plt.figure()\n",
        "\n",
        "sns.heatmap(corr2[(corr2 >= 0.5) | (corr2 <= -0.4)], \n",
        "            cmap='viridis', vmax=1.0, vmin=-1.0, linewidths=0.1,\n",
        "            annot=True, annot_kws={\"size\": 8}, square=True);"
      ],
      "metadata": {
        "colab": {
          "base_uri": "https://localhost:8080/",
          "height": 367
        },
        "id": "MH99Pprzxm2G",
        "outputId": "3a75d11c-6e7f-4bc0-d5f1-9b8b7151b8ca"
      },
      "execution_count": null,
      "outputs": [
        {
          "output_type": "display_data",
          "data": {
            "text/plain": [
              "<Figure size 432x288 with 2 Axes>"
            ],
            "image/png": "[encoded data removed]"
          },
          "metadata": {}
        }
      ]
    },
    {
      "cell_type": "markdown",
      "source": [
        "Interpretasi:\n",
        "\n",
        "* Didapatkan nilai 0,58 menunjukkan bahwa ada korelasi linier positif yang cukup kuat antara meter_reading (konsumsi energi) dengan square_feet (luas bangunan). Ada kecenderungan bahwa meter_reading (konsumsi energi) tinggi berkaitan dengan square_feet (luas bangunan) yang lebih luas dibandingkan dengan square_feet (luas bangunan) yang lebih sempit.\n",
        "\n",
        "* Didapatkan nilai 0,57 menunjukkan bahwa ada korelasi linier positif yang cukup kuat antara air_temperature (suhu udara) dengan dew_temperature (suhu embun). Ada kecenderungan bahwa air_temperature (suhu udara) yang tinggi berkaitan dengan dew_temperature (suhu embun) yang tinggi dibandingkan dengan dew_temperature (suhu embun) yang rendah.\n",
        "\n",
        "* Didapatkan nilai -0,76 menunjukkan bahwa ada korelasi linier negatif yang kuat antara wind_direction (arah angin) dengan air_temperature (suhu udara). Ada kecenderungan bahwa wind_direction (arah angin) yang tinggi berkaitan dengan air_temperature (suhu udara) yang rendah dibandingkan dengan air_temperature (suhu udara) yang tinggi.\n",
        "\n",
        "* Didapatkan nilai -0,6 menunjukkan bahwa ada korelasi linier negatif yang kuat antara wind_speed (kecepatan angin) dengan air_temperature (suhu udara). Ada kecenderungan bahwa wind_speed (kecepatan angin) yang tinggi berkaitan dengan air_temperature (suhu udara) yang rendah dibandingkan dengan air_temperature (suhu udara) yang tinggi.\n",
        "\n",
        "* Didapatkan nilai 0.84 menunjukkan bahwa ada korelasi linier positif yang sangat kuat antara wind_direction (arah angin) dengan wind_speed (kecepatan angin). Ada kecenderungan bahwa wind_direction (arah angin) yang tinggi berkaitan  dengan wind_speed (kecepatan angin) yang tinggi dibandingkan dengan wind_speed (kecepatan angin) yang rendah.\n",
        "\n"
      ],
      "metadata": {
        "id": "FUSeu4Zsx9yn"
      }
    },
    {
      "cell_type": "code",
      "source": [
        "df.describe().transpose()"
      ],
      "metadata": {
        "colab": {
          "base_uri": "https://localhost:8080/",
          "height": 332
        },
        "id": "3yQ4WhDWx9nj",
        "outputId": "85f3326b-335e-408f-9f2e-331f65299b02"
      },
      "execution_count": null,
      "outputs": [
        {
          "output_type": "execute_result",
          "data": {
            "text/plain": [
              "                     count          mean            std          min  \\\n",
              "meter_reading       1413.0    185.383188     374.899500     0.000400   \n",
              "square_feet         1413.0  92204.792640  111412.340117   283.000000   \n",
              "air_temperature     1413.0     15.697154       5.416736     7.572136   \n",
              "cloud_coverage      1413.0      2.165621       1.452846     0.059266   \n",
              "dew_temperature     1413.0      8.259831       4.625295    -0.304675   \n",
              "precip_depth_1_hr   1413.0      1.151504       1.386802     0.155325   \n",
              "sea_level_pressure  1413.0   1016.487808       1.862148  1011.436563   \n",
              "wind_direction      1413.0    175.351051      24.921236   123.388701   \n",
              "wind_speed          1413.0      3.564617       0.737746     2.157103   \n",
              "\n",
              "                             25%           50%            75%            max  \n",
              "meter_reading          27.224943     74.933148     182.884848    5072.323426  \n",
              "square_feet         22949.000000  57673.000000  115288.000000  875000.000000  \n",
              "air_temperature        11.058629     15.204244      21.325261      24.963702  \n",
              "cloud_coverage          0.665832      2.083712       2.998727       5.671785  \n",
              "dew_temperature         4.512823      8.285693       9.834399      17.379328  \n",
              "precip_depth_1_hr       0.775686      0.895980       1.033215      11.675633  \n",
              "sea_level_pressure   1016.404579   1016.797495    1017.949437    1018.052063  \n",
              "wind_direction        153.629430    184.295922     187.301104     207.134076  \n",
              "wind_speed              3.100911      3.619547       3.905433       5.493939  "
            ],
            "text/html": [
              "\n",
              "  <div id=\"df-2d187347-7512-4a54-a6f9-66bb851b995b\">\n",
              "    <div class=\"colab-df-container\">\n",
              "      <div>\n",
              "<style scoped>\n",
              "    .dataframe tbody tr th:only-of-type {\n",
              "        vertical-align: middle;\n",
              "    }\n",
              "\n",
              "    .dataframe tbody tr th {\n",
              "        vertical-align: top;\n",
              "    }\n",
              "\n",
              "    .dataframe thead th {\n",
              "        text-align: right;\n",
              "    }\n",
              "</style>\n",
              "<table border=\"1\" class=\"dataframe\">\n",
              "  <thead>\n",
              "    <tr style=\"text-align: right;\">\n",
              "      <th></th>\n",
              "      <th>count</th>\n",
              "      <th>mean</th>\n",
              "      <th>std</th>\n",
              "      <th>min</th>\n",
              "      <th>25%</th>\n",
              "      <th>50%</th>\n",
              "      <th>75%</th>\n",
              "      <th>max</th>\n",
              "    </tr>\n",
              "  </thead>\n",
              "  <tbody>\n",
              "    <tr>\n",
              "      <th>meter_reading</th>\n",
              "      <td>1413.0</td>\n",
              "      <td>185.383188</td>\n",
              "      <td>374.899500</td>\n",
              "      <td>0.000400</td>\n",
              "      <td>27.224943</td>\n",
              "      <td>74.933148</td>\n",
              "      <td>182.884848</td>\n",
              "      <td>5072.323426</td>\n",
              "    </tr>\n",
              "    <tr>\n",
              "      <th>square_feet</th>\n",
              "      <td>1413.0</td>\n",
              "      <td>92204.792640</td>\n",
              "      <td>111412.340117</td>\n",
              "      <td>283.000000</td>\n",
              "      <td>22949.000000</td>\n",
              "      <td>57673.000000</td>\n",
              "      <td>115288.000000</td>\n",
              "      <td>875000.000000</td>\n",
              "    </tr>\n",
              "    <tr>\n",
              "      <th>air_temperature</th>\n",
              "      <td>1413.0</td>\n",
              "      <td>15.697154</td>\n",
              "      <td>5.416736</td>\n",
              "      <td>7.572136</td>\n",
              "      <td>11.058629</td>\n",
              "      <td>15.204244</td>\n",
              "      <td>21.325261</td>\n",
              "      <td>24.963702</td>\n",
              "    </tr>\n",
              "    <tr>\n",
              "      <th>cloud_coverage</th>\n",
              "      <td>1413.0</td>\n",
              "      <td>2.165621</td>\n",
              "      <td>1.452846</td>\n",
              "      <td>0.059266</td>\n",
              "      <td>0.665832</td>\n",
              "      <td>2.083712</td>\n",
              "      <td>2.998727</td>\n",
              "      <td>5.671785</td>\n",
              "    </tr>\n",
              "    <tr>\n",
              "      <th>dew_temperature</th>\n",
              "      <td>1413.0</td>\n",
              "      <td>8.259831</td>\n",
              "      <td>4.625295</td>\n",
              "      <td>-0.304675</td>\n",
              "      <td>4.512823</td>\n",
              "      <td>8.285693</td>\n",
              "      <td>9.834399</td>\n",
              "      <td>17.379328</td>\n",
              "    </tr>\n",
              "    <tr>\n",
              "      <th>precip_depth_1_hr</th>\n",
              "      <td>1413.0</td>\n",
              "      <td>1.151504</td>\n",
              "      <td>1.386802</td>\n",
              "      <td>0.155325</td>\n",
              "      <td>0.775686</td>\n",
              "      <td>0.895980</td>\n",
              "      <td>1.033215</td>\n",
              "      <td>11.675633</td>\n",
              "    </tr>\n",
              "    <tr>\n",
              "      <th>sea_level_pressure</th>\n",
              "      <td>1413.0</td>\n",
              "      <td>1016.487808</td>\n",
              "      <td>1.862148</td>\n",
              "      <td>1011.436563</td>\n",
              "      <td>1016.404579</td>\n",
              "      <td>1016.797495</td>\n",
              "      <td>1017.949437</td>\n",
              "      <td>1018.052063</td>\n",
              "    </tr>\n",
              "    <tr>\n",
              "      <th>wind_direction</th>\n",
              "      <td>1413.0</td>\n",
              "      <td>175.351051</td>\n",
              "      <td>24.921236</td>\n",
              "      <td>123.388701</td>\n",
              "      <td>153.629430</td>\n",
              "      <td>184.295922</td>\n",
              "      <td>187.301104</td>\n",
              "      <td>207.134076</td>\n",
              "    </tr>\n",
              "    <tr>\n",
              "      <th>wind_speed</th>\n",
              "      <td>1413.0</td>\n",
              "      <td>3.564617</td>\n",
              "      <td>0.737746</td>\n",
              "      <td>2.157103</td>\n",
              "      <td>3.100911</td>\n",
              "      <td>3.619547</td>\n",
              "      <td>3.905433</td>\n",
              "      <td>5.493939</td>\n",
              "    </tr>\n",
              "  </tbody>\n",
              "</table>\n",
              "</div>\n",
              "      <button class=\"colab-df-convert\" onclick=\"convertToInteractive('df-2d187347-7512-4a54-a6f9-66bb851b995b')\"\n",
              "              title=\"Convert this dataframe to an interactive table.\"\n",
              "              style=\"display:none;\">\n",
              "        \n",
              "  <svg xmlns=\"http://www.w3.org/2000/svg\" height=\"24px\"viewBox=\"0 0 24 24\"\n",
              "       width=\"24px\">\n",
              "    <path d=\"M0 0h24v24H0V0z\" fill=\"none\"/>\n",
              "    <path d=\"M18.56 5.44l.94 2.06.94-2.06 2.06-.94-2.06-.94-.94-2.06-.94 2.06-2.06.94zm-11 1L8.5 8.5l.94-2.06 2.06-.94-2.06-.94L8.5 2.5l-.94 2.06-2.06.94zm10 10l.94 2.06.94-2.06 2.06-.94-2.06-.94-.94-2.06-.94 2.06-2.06.94z\"/><path d=\"M17.41 7.96l-1.37-1.37c-.4-.4-.92-.59-1.43-.59-.52 0-1.04.2-1.43.59L10.3 9.45l-7.72 7.72c-.78.78-.78 2.05 0 2.83L4 21.41c.39.39.9.59 1.41.59.51 0 1.02-.2 1.41-.59l7.78-7.78 2.81-2.81c.8-.78.8-2.07 0-2.86zM5.41 20L4 18.59l7.72-7.72 1.47 1.35L5.41 20z\"/>\n",
              "  </svg>\n",
              "      </button>\n",
              "      \n",
              "  <style>\n",
              "    .colab-df-container {\n",
              "      display:flex;\n",
              "      flex-wrap:wrap;\n",
              "      gap: 12px;\n",
              "    }\n",
              "\n",
              "    .colab-df-convert {\n",
              "      background-color: #E8F0FE;\n",
              "      border: none;\n",
              "      border-radius: 50%;\n",
              "      cursor: pointer;\n",
              "      display: none;\n",
              "      fill: #1967D2;\n",
              "      height: 32px;\n",
              "      padding: 0 0 0 0;\n",
              "      width: 32px;\n",
              "    }\n",
              "\n",
              "    .colab-df-convert:hover {\n",
              "      background-color: #E2EBFA;\n",
              "      box-shadow: 0px 1px 2px rgba(60, 64, 67, 0.3), 0px 1px 3px 1px rgba(60, 64, 67, 0.15);\n",
              "      fill: #174EA6;\n",
              "    }\n",
              "\n",
              "    [theme=dark] .colab-df-convert {\n",
              "      background-color: #3B4455;\n",
              "      fill: #D2E3FC;\n",
              "    }\n",
              "\n",
              "    [theme=dark] .colab-df-convert:hover {\n",
              "      background-color: #434B5C;\n",
              "      box-shadow: 0px 1px 3px 1px rgba(0, 0, 0, 0.15);\n",
              "      filter: drop-shadow(0px 1px 2px rgba(0, 0, 0, 0.3));\n",
              "      fill: #FFFFFF;\n",
              "    }\n",
              "  </style>\n",
              "\n",
              "      <script>\n",
              "        const buttonEl =\n",
              "          document.querySelector('#df-2d187347-7512-4a54-a6f9-66bb851b995b button.colab-df-convert');\n",
              "        buttonEl.style.display =\n",
              "          google.colab.kernel.accessAllowed ? 'block' : 'none';\n",
              "\n",
              "        async function convertToInteractive(key) {\n",
              "          const element = document.querySelector('#df-2d187347-7512-4a54-a6f9-66bb851b995b');\n",
              "          const dataTable =\n",
              "            await google.colab.kernel.invokeFunction('convertToInteractive',\n",
              "                                                     [key], {});\n",
              "          if (!dataTable) return;\n",
              "\n",
              "          const docLinkHtml = 'Like what you see? Visit the ' +\n",
              "            '<a target=\"_blank\" href=https://colab.research.google.com/notebooks/data_table.ipynb>data table notebook</a>'\n",
              "            + ' to learn more about interactive tables.';\n",
              "          element.innerHTML = '';\n",
              "          dataTable['output_type'] = 'display_data';\n",
              "          await google.colab.output.renderOutput(dataTable, element);\n",
              "          const docLink = document.createElement('div');\n",
              "          docLink.innerHTML = docLinkHtml;\n",
              "          element.appendChild(docLink);\n",
              "        }\n",
              "      </script>\n",
              "    </div>\n",
              "  </div>\n",
              "  "
            ]
          },
          "metadata": {},
          "execution_count": 18
        }
      ]
    },
    {
      "cell_type": "markdown",
      "source": [
        "# **Modelling - Regresi**"
      ],
      "metadata": {
        "id": "IKAMQ06Pz1Wy"
      }
    },
    {
      "cell_type": "markdown",
      "source": [
        "**Model 1**"
      ],
      "metadata": {
        "id": "c9oE3Wxm0BES"
      }
    },
    {
      "cell_type": "code",
      "source": [
        "reg = ols('meter_reading ~ primary_use + square_feet + air_temperature', df).fit()\n",
        "print(reg.summary())"
      ],
      "metadata": {
        "colab": {
          "base_uri": "https://localhost:8080/"
        },
        "id": "YVLtrKS5z36h",
        "outputId": "ea7fc455-d1ed-49c4-aea3-51f8c10a14c5"
      },
      "execution_count": null,
      "outputs": [
        {
          "output_type": "stream",
          "name": "stdout",
          "text": [
            "                            OLS Regression Results                            \n",
            "==============================================================================\n",
            "Dep. Variable:          meter_reading   R-squared:                       0.387\n",
            "Model:                            OLS   Adj. R-squared:                  0.379\n",
            "Method:                 Least Squares   F-statistic:                     51.73\n",
            "Date:                Fri, 18 Nov 2022   Prob (F-statistic):          1.07e-134\n",
            "Time:                        08:25:20   Log-Likelihood:                -10033.\n",
            "No. Observations:                1413   AIC:                         2.010e+04\n",
            "Df Residuals:                    1395   BIC:                         2.020e+04\n",
            "Df Model:                          17                                         \n",
            "Covariance Type:            nonrobust                                         \n",
            "================================================================================================================\n",
            "                                                   coef    std err          t      P>|t|      [0.025      0.975]\n",
            "----------------------------------------------------------------------------------------------------------------\n",
            "Intercept                                       61.8728     27.586      2.243      0.025       7.757     115.988\n",
            "primary_use[T.Entertainment/public assembly]   -93.5944     25.614     -3.654      0.000    -143.841     -43.348\n",
            "primary_use[T.Food sales and service]          -33.1617    132.819     -0.250      0.803    -293.709     227.385\n",
            "primary_use[T.Healthcare]                      -27.2211     65.810     -0.414      0.679    -156.318     101.876\n",
            "primary_use[T.Lodging/residential]             -99.8002     27.691     -3.604      0.000    -154.120     -45.480\n",
            "primary_use[T.Manufacturing/industrial]        -58.9985     94.786     -0.622      0.534    -244.937     126.940\n",
            "primary_use[T.Office]                          -62.6270     22.165     -2.826      0.005    -106.107     -19.147\n",
            "primary_use[T.Other]                           -24.9098     60.786     -0.410      0.682    -144.153      94.333\n",
            "primary_use[T.Parking]                        -556.7836     65.595     -8.488      0.000    -685.460    -428.107\n",
            "primary_use[T.Public services]                 -85.3633     27.113     -3.148      0.002    -138.549     -32.177\n",
            "primary_use[T.Religious worship]               -68.7026    171.159     -0.401      0.688    -404.459     267.054\n",
            "primary_use[T.Retail]                           79.9188     90.218      0.886      0.376     -97.059     256.896\n",
            "primary_use[T.Services]                       -416.5679     99.663     -4.180      0.000    -612.073    -221.063\n",
            "primary_use[T.Technology/science]              -62.3974    121.458     -0.514      0.608    -300.658     175.863\n",
            "primary_use[T.Utility]                          45.8139    148.351      0.309      0.758    -245.201     336.829\n",
            "primary_use[T.Warehouse/storage]               -98.3130     86.332     -1.139      0.255    -267.668      71.042\n",
            "square_feet                                      0.0021   7.36e-05     28.189      0.000       0.002       0.002\n",
            "air_temperature                                 -0.7148      1.481     -0.483      0.630      -3.621       2.191\n",
            "==============================================================================\n",
            "Omnibus:                     1811.494   Durbin-Watson:                   1.618\n",
            "Prob(Omnibus):                  0.000   Jarque-Bera (JB):           382737.440\n",
            "Skew:                           6.709   Prob(JB):                         0.00\n",
            "Kurtosis:                      82.503   Cond. No.                     3.15e+06\n",
            "==============================================================================\n",
            "\n",
            "Notes:\n",
            "[1] Standard Errors assume that the covariance matrix of the errors is correctly specified.\n",
            "[2] The condition number is large, 3.15e+06. This might indicate that there are\n",
            "strong multicollinearity or other numerical problems.\n"
          ]
        }
      ]
    },
    {
      "cell_type": "markdown",
      "source": [
        "**Model 2**"
      ],
      "metadata": {
        "id": "W-0ZG7E30C03"
      }
    },
    {
      "cell_type": "code",
      "source": [
        "#forward selection\n",
        "def forward_selected(data, response):\n",
        "    \"\"\"Linear model designed by forward selection.\n",
        "    https://planspace.org/20150423-forward_selection_with_statsmodels/\n",
        "    Parameters:\n",
        "    -----------\n",
        "    data : pandas DataFrame with all possible predictors and response\n",
        "\n",
        "    response: string, name of response column in data\n",
        "\n",
        "    Returns:\n",
        "    --------\n",
        "    model: an \"optimal\" fitted statsmodels linear model\n",
        "           with an intercept\n",
        "           selected by forward selection\n",
        "           evaluated by adjusted R-squared\n",
        "    \"\"\"\n",
        "    remaining = set(data.columns)\n",
        "    remaining.remove(response)\n",
        "    selected = []\n",
        "    current_score, best_new_score = 0.0, 0.0\n",
        "    while remaining and current_score == best_new_score:\n",
        "        scores_with_candidates = []\n",
        "        for candidate in remaining:\n",
        "            formula = \"{} ~ {} + 1\".format(response,\n",
        "                                           ' + '.join(selected + [candidate]))\n",
        "            score = smf.ols(formula, data).fit().rsquared_adj\n",
        "            scores_with_candidates.append((score, candidate))\n",
        "        scores_with_candidates.sort()\n",
        "        best_new_score, best_candidate = scores_with_candidates.pop()\n",
        "        if current_score < best_new_score:\n",
        "            remaining.remove(best_candidate)\n",
        "            selected.append(best_candidate)\n",
        "            current_score = best_new_score\n",
        "    formula = \"{} ~ {} + 1\".format(response, ' + '.join(selected))\n",
        "    model = smf.ols(formula, data).fit()\n",
        "    return model"
      ],
      "metadata": {
        "id": "ea_7Nhiwz-Xh"
      },
      "execution_count": null,
      "outputs": []
    },
    {
      "cell_type": "code",
      "source": [
        "#memilih variable menggunakan forward selection (tanpa scaling)\n",
        "model = forward_selected(df, 'meter_reading')\n",
        "\n",
        "print(model.model.formula)\n",
        "print(model.rsquared_adj)"
      ],
      "metadata": {
        "colab": {
          "base_uri": "https://localhost:8080/"
        },
        "id": "mw675K5A0FCc",
        "outputId": "b219135c-5e8c-44fa-b57e-ee06b0d800dd"
      },
      "execution_count": null,
      "outputs": [
        {
          "output_type": "stream",
          "name": "stdout",
          "text": [
            "meter_reading ~ square_feet + precip_depth_1_hr + primary_use + air_temperature + wind_direction + cloud_coverage + dew_temperature + wind_speed + 1\n",
            "0.48611497260007974\n"
          ]
        }
      ]
    },
    {
      "cell_type": "code",
      "source": [
        "#model regresi berdasarkan forward selection tanpa scaling\n",
        "reg2 = ols('meter_reading ~ square_feet + precip_depth_1_hr + primary_use + air_temperature + wind_speed + dew_temperature + sea_level_pressure', df).fit()\n",
        "print(reg2.summary())"
      ],
      "metadata": {
        "colab": {
          "base_uri": "https://localhost:8080/"
        },
        "id": "M5QdiCSf0G3w",
        "outputId": "76d22926-9878-4ce6-d877-fd86ef4bf022"
      },
      "execution_count": null,
      "outputs": [
        {
          "output_type": "stream",
          "name": "stdout",
          "text": [
            "                            OLS Regression Results                            \n",
            "==============================================================================\n",
            "Dep. Variable:          meter_reading   R-squared:                       0.490\n",
            "Model:                            OLS   Adj. R-squared:                  0.483\n",
            "Method:                 Least Squares   F-statistic:                     63.71\n",
            "Date:                Fri, 18 Nov 2022   Prob (F-statistic):          3.15e-186\n",
            "Time:                        08:25:20   Log-Likelihood:                -9902.7\n",
            "No. Observations:                1413   AIC:                         1.985e+04\n",
            "Df Residuals:                    1391   BIC:                         1.997e+04\n",
            "Df Model:                          21                                         \n",
            "Covariance Type:            nonrobust                                         \n",
            "================================================================================================================\n",
            "                                                   coef    std err          t      P>|t|      [0.025      0.975]\n",
            "----------------------------------------------------------------------------------------------------------------\n",
            "Intercept                                    -9883.3741   7657.392     -1.291      0.197   -2.49e+04    5137.909\n",
            "primary_use[T.Entertainment/public assembly]   -90.8178     23.554     -3.856      0.000    -137.023     -44.613\n",
            "primary_use[T.Food sales and service]           24.8490    121.569      0.204      0.838    -213.630     263.328\n",
            "primary_use[T.Healthcare]                       34.4335     60.344      0.571      0.568     -83.941     152.808\n",
            "primary_use[T.Lodging/residential]            -105.8243     25.547     -4.142      0.000    -155.939     -55.709\n",
            "primary_use[T.Manufacturing/industrial]        -25.9127     86.576     -0.299      0.765    -195.746     143.921\n",
            "primary_use[T.Office]                          -26.1827     20.377     -1.285      0.199     -66.156      13.790\n",
            "primary_use[T.Other]                           -52.0460     55.914     -0.931      0.352    -161.731      57.639\n",
            "primary_use[T.Parking]                        -518.6467     60.195     -8.616      0.000    -636.730    -400.563\n",
            "primary_use[T.Public services]                 -93.5875     26.098     -3.586      0.000    -144.783     -42.392\n",
            "primary_use[T.Religious worship]              -108.0192    156.454     -0.690      0.490    -414.930     198.892\n",
            "primary_use[T.Retail]                           37.4754     82.914      0.452      0.651    -125.174     200.125\n",
            "primary_use[T.Services]                       -332.7312     91.380     -3.641      0.000    -511.990    -153.473\n",
            "primary_use[T.Technology/science]               -8.3100    110.967     -0.075      0.940    -225.991     209.371\n",
            "primary_use[T.Utility]                           4.0249    135.554      0.030      0.976    -261.887     269.937\n",
            "primary_use[T.Warehouse/storage]               -86.1254     79.122     -1.089      0.277    -241.338      69.087\n",
            "square_feet                                      0.0019   6.88e-05     28.298      0.000       0.002       0.002\n",
            "precip_depth_1_hr                               97.4059      5.902     16.503      0.000      85.828     108.984\n",
            "air_temperature                                 14.5051      3.426      4.234      0.000       7.784      21.226\n",
            "wind_speed                                      47.7456     13.843      3.449      0.001      20.590      74.901\n",
            "dew_temperature                                 -1.9737      3.471     -0.569      0.570      -8.783       4.835\n",
            "sea_level_pressure                               9.2912      7.504      1.238      0.216      -5.428      24.011\n",
            "==============================================================================\n",
            "Omnibus:                     1493.241   Durbin-Watson:                   1.889\n",
            "Prob(Omnibus):                  0.000   Jarque-Bera (JB):           171913.545\n",
            "Skew:                           4.890   Prob(JB):                         0.00\n",
            "Kurtosis:                      56.145   Cond. No.                     1.54e+08\n",
            "==============================================================================\n",
            "\n",
            "Notes:\n",
            "[1] Standard Errors assume that the covariance matrix of the errors is correctly specified.\n",
            "[2] The condition number is large, 1.54e+08. This might indicate that there are\n",
            "strong multicollinearity or other numerical problems.\n"
          ]
        }
      ]
    },
    {
      "cell_type": "markdown",
      "source": [
        "**Model 3**"
      ],
      "metadata": {
        "id": "z8SPXiD80LLG"
      }
    },
    {
      "cell_type": "code",
      "source": [
        "#Scaling data\n",
        "from sklearn.preprocessing import MinMaxScaler\n",
        "scaler = MinMaxScaler()\n",
        "\n",
        "df3=df.copy()\n",
        "df3[['square_feet','precip_depth_1_hr','air_temperature','wind_speed','dew_temperature','sea_level_pressure','cloud_coverage','wind_direction']] = scaler.fit_transform(df[['square_feet','precip_depth_1_hr','air_temperature','wind_speed','dew_temperature','sea_level_pressure','cloud_coverage','wind_direction']])\n",
        "df3.head()"
      ],
      "metadata": {
        "colab": {
          "base_uri": "https://localhost:8080/",
          "height": 250
        },
        "id": "JN2bvixn0McY",
        "outputId": "a0c1e083-e31b-44b8-c1dd-da389c04a1ff"
      },
      "execution_count": null,
      "outputs": [
        {
          "output_type": "execute_result",
          "data": {
            "text/plain": [
              "   meter_reading primary_use  square_feet  air_temperature  cloud_coverage  \\\n",
              "0     237.749127   Education     0.008173         0.872416        0.523733   \n",
              "1     118.553743   Education     0.002786         0.872416        0.523733   \n",
              "2      23.626500   Education     0.005822         0.872416        0.523733   \n",
              "3     382.736016   Education     0.026754         0.872416        0.523733   \n",
              "4    1579.174237   Education     0.132985         0.872416        0.523733   \n",
              "\n",
              "   dew_temperature  precip_depth_1_hr  sea_level_pressure  wind_direction  \\\n",
              "0              1.0           0.094204            0.984487        0.347868   \n",
              "1              1.0           0.094204            0.984487        0.347868   \n",
              "2              1.0           0.094204            0.984487        0.347868   \n",
              "3              1.0           0.094204            0.984487        0.347868   \n",
              "4              1.0           0.094204            0.984487        0.347868   \n",
              "\n",
              "   wind_speed  \n",
              "0    0.369922  \n",
              "1    0.369922  \n",
              "2    0.369922  \n",
              "3    0.369922  \n",
              "4    0.369922  "
            ],
            "text/html": [
              "\n",
              "  <div id=\"df-28a36bda-0764-4219-8d34-a3689b06b432\">\n",
              "    <div class=\"colab-df-container\">\n",
              "      <div>\n",
              "<style scoped>\n",
              "    .dataframe tbody tr th:only-of-type {\n",
              "        vertical-align: middle;\n",
              "    }\n",
              "\n",
              "    .dataframe tbody tr th {\n",
              "        vertical-align: top;\n",
              "    }\n",
              "\n",
              "    .dataframe thead th {\n",
              "        text-align: right;\n",
              "    }\n",
              "</style>\n",
              "<table border=\"1\" class=\"dataframe\">\n",
              "  <thead>\n",
              "    <tr style=\"text-align: right;\">\n",
              "      <th></th>\n",
              "      <th>meter_reading</th>\n",
              "      <th>primary_use</th>\n",
              "      <th>square_feet</th>\n",
              "      <th>air_temperature</th>\n",
              "      <th>cloud_coverage</th>\n",
              "      <th>dew_temperature</th>\n",
              "      <th>precip_depth_1_hr</th>\n",
              "      <th>sea_level_pressure</th>\n",
              "      <th>wind_direction</th>\n",
              "      <th>wind_speed</th>\n",
              "    </tr>\n",
              "  </thead>\n",
              "  <tbody>\n",
              "    <tr>\n",
              "      <th>0</th>\n",
              "      <td>237.749127</td>\n",
              "      <td>Education</td>\n",
              "      <td>0.008173</td>\n",
              "      <td>0.872416</td>\n",
              "      <td>0.523733</td>\n",
              "      <td>1.0</td>\n",
              "      <td>0.094204</td>\n",
              "      <td>0.984487</td>\n",
              "      <td>0.347868</td>\n",
              "      <td>0.369922</td>\n",
              "    </tr>\n",
              "    <tr>\n",
              "      <th>1</th>\n",
              "      <td>118.553743</td>\n",
              "      <td>Education</td>\n",
              "      <td>0.002786</td>\n",
              "      <td>0.872416</td>\n",
              "      <td>0.523733</td>\n",
              "      <td>1.0</td>\n",
              "      <td>0.094204</td>\n",
              "      <td>0.984487</td>\n",
              "      <td>0.347868</td>\n",
              "      <td>0.369922</td>\n",
              "    </tr>\n",
              "    <tr>\n",
              "      <th>2</th>\n",
              "      <td>23.626500</td>\n",
              "      <td>Education</td>\n",
              "      <td>0.005822</td>\n",
              "      <td>0.872416</td>\n",
              "      <td>0.523733</td>\n",
              "      <td>1.0</td>\n",
              "      <td>0.094204</td>\n",
              "      <td>0.984487</td>\n",
              "      <td>0.347868</td>\n",
              "      <td>0.369922</td>\n",
              "    </tr>\n",
              "    <tr>\n",
              "      <th>3</th>\n",
              "      <td>382.736016</td>\n",
              "      <td>Education</td>\n",
              "      <td>0.026754</td>\n",
              "      <td>0.872416</td>\n",
              "      <td>0.523733</td>\n",
              "      <td>1.0</td>\n",
              "      <td>0.094204</td>\n",
              "      <td>0.984487</td>\n",
              "      <td>0.347868</td>\n",
              "      <td>0.369922</td>\n",
              "    </tr>\n",
              "    <tr>\n",
              "      <th>4</th>\n",
              "      <td>1579.174237</td>\n",
              "      <td>Education</td>\n",
              "      <td>0.132985</td>\n",
              "      <td>0.872416</td>\n",
              "      <td>0.523733</td>\n",
              "      <td>1.0</td>\n",
              "      <td>0.094204</td>\n",
              "      <td>0.984487</td>\n",
              "      <td>0.347868</td>\n",
              "      <td>0.369922</td>\n",
              "    </tr>\n",
              "  </tbody>\n",
              "</table>\n",
              "</div>\n",
              "      <button class=\"colab-df-convert\" onclick=\"convertToInteractive('df-28a36bda-0764-4219-8d34-a3689b06b432')\"\n",
              "              title=\"Convert this dataframe to an interactive table.\"\n",
              "              style=\"display:none;\">\n",
              "        \n",
              "  <svg xmlns=\"http://www.w3.org/2000/svg\" height=\"24px\"viewBox=\"0 0 24 24\"\n",
              "       width=\"24px\">\n",
              "    <path d=\"M0 0h24v24H0V0z\" fill=\"none\"/>\n",
              "    <path d=\"M18.56 5.44l.94 2.06.94-2.06 2.06-.94-2.06-.94-.94-2.06-.94 2.06-2.06.94zm-11 1L8.5 8.5l.94-2.06 2.06-.94-2.06-.94L8.5 2.5l-.94 2.06-2.06.94zm10 10l.94 2.06.94-2.06 2.06-.94-2.06-.94-.94-2.06-.94 2.06-2.06.94z\"/><path d=\"M17.41 7.96l-1.37-1.37c-.4-.4-.92-.59-1.43-.59-.52 0-1.04.2-1.43.59L10.3 9.45l-7.72 7.72c-.78.78-.78 2.05 0 2.83L4 21.41c.39.39.9.59 1.41.59.51 0 1.02-.2 1.41-.59l7.78-7.78 2.81-2.81c.8-.78.8-2.07 0-2.86zM5.41 20L4 18.59l7.72-7.72 1.47 1.35L5.41 20z\"/>\n",
              "  </svg>\n",
              "      </button>\n",
              "      \n",
              "  <style>\n",
              "    .colab-df-container {\n",
              "      display:flex;\n",
              "      flex-wrap:wrap;\n",
              "      gap: 12px;\n",
              "    }\n",
              "\n",
              "    .colab-df-convert {\n",
              "      background-color: #E8F0FE;\n",
              "      border: none;\n",
              "      border-radius: 50%;\n",
              "      cursor: pointer;\n",
              "      display: none;\n",
              "      fill: #1967D2;\n",
              "      height: 32px;\n",
              "      padding: 0 0 0 0;\n",
              "      width: 32px;\n",
              "    }\n",
              "\n",
              "    .colab-df-convert:hover {\n",
              "      background-color: #E2EBFA;\n",
              "      box-shadow: 0px 1px 2px rgba(60, 64, 67, 0.3), 0px 1px 3px 1px rgba(60, 64, 67, 0.15);\n",
              "      fill: #174EA6;\n",
              "    }\n",
              "\n",
              "    [theme=dark] .colab-df-convert {\n",
              "      background-color: #3B4455;\n",
              "      fill: #D2E3FC;\n",
              "    }\n",
              "\n",
              "    [theme=dark] .colab-df-convert:hover {\n",
              "      background-color: #434B5C;\n",
              "      box-shadow: 0px 1px 3px 1px rgba(0, 0, 0, 0.15);\n",
              "      filter: drop-shadow(0px 1px 2px rgba(0, 0, 0, 0.3));\n",
              "      fill: #FFFFFF;\n",
              "    }\n",
              "  </style>\n",
              "\n",
              "      <script>\n",
              "        const buttonEl =\n",
              "          document.querySelector('#df-28a36bda-0764-4219-8d34-a3689b06b432 button.colab-df-convert');\n",
              "        buttonEl.style.display =\n",
              "          google.colab.kernel.accessAllowed ? 'block' : 'none';\n",
              "\n",
              "        async function convertToInteractive(key) {\n",
              "          const element = document.querySelector('#df-28a36bda-0764-4219-8d34-a3689b06b432');\n",
              "          const dataTable =\n",
              "            await google.colab.kernel.invokeFunction('convertToInteractive',\n",
              "                                                     [key], {});\n",
              "          if (!dataTable) return;\n",
              "\n",
              "          const docLinkHtml = 'Like what you see? Visit the ' +\n",
              "            '<a target=\"_blank\" href=https://colab.research.google.com/notebooks/data_table.ipynb>data table notebook</a>'\n",
              "            + ' to learn more about interactive tables.';\n",
              "          element.innerHTML = '';\n",
              "          dataTable['output_type'] = 'display_data';\n",
              "          await google.colab.output.renderOutput(dataTable, element);\n",
              "          const docLink = document.createElement('div');\n",
              "          docLink.innerHTML = docLinkHtml;\n",
              "          element.appendChild(docLink);\n",
              "        }\n",
              "      </script>\n",
              "    </div>\n",
              "  </div>\n",
              "  "
            ]
          },
          "metadata": {},
          "execution_count": 23
        }
      ]
    },
    {
      "cell_type": "code",
      "source": [
        "model1 = forward_selected(df3, 'meter_reading')\n",
        "res = ols(formula='meter_reading ~ square_feet + C(primary_use) + precip_depth_1_hr + air_temperature + wind_direction + sea_level_pressure', data=df).fit()\n",
        "print(res.params)\n",
        "print(res.summary())\n",
        "print(model1.model.formula)\n",
        "print(model1.rsquared_adj)"
      ],
      "metadata": {
        "colab": {
          "base_uri": "https://localhost:8080/"
        },
        "id": "Dx2RZk7T5lfs",
        "outputId": "3b79443f-a347-41f3-afd6-e3c2c45fb9be"
      },
      "execution_count": null,
      "outputs": [
        {
          "output_type": "stream",
          "name": "stdout",
          "text": [
            "Intercept                                         -9454.549302\n",
            "C(primary_use)[T.Entertainment/public assembly]     -86.818734\n",
            "C(primary_use)[T.Food sales and service]             19.867383\n",
            "C(primary_use)[T.Healthcare]                         25.714355\n",
            "C(primary_use)[T.Lodging/residential]               -99.008211\n",
            "C(primary_use)[T.Manufacturing/industrial]           -6.835465\n",
            "C(primary_use)[T.Office]                            -17.737791\n",
            "C(primary_use)[T.Other]                             -42.235958\n",
            "C(primary_use)[T.Parking]                          -513.172801\n",
            "C(primary_use)[T.Public services]                   -90.580734\n",
            "C(primary_use)[T.Religious worship]                -102.954413\n",
            "C(primary_use)[T.Retail]                             56.543394\n",
            "C(primary_use)[T.Services]                         -311.832930\n",
            "C(primary_use)[T.Technology/science]                -12.383264\n",
            "C(primary_use)[T.Utility]                            -2.768447\n",
            "C(primary_use)[T.Warehouse/storage]                 -75.422638\n",
            "square_feet                                           0.001955\n",
            "precip_depth_1_hr                                    95.083803\n",
            "air_temperature                                      16.230165\n",
            "wind_direction                                        1.969195\n",
            "sea_level_pressure                                    8.652700\n",
            "dtype: float64\n",
            "                            OLS Regression Results                            \n",
            "==============================================================================\n",
            "Dep. Variable:          meter_reading   R-squared:                       0.492\n",
            "Model:                            OLS   Adj. R-squared:                  0.485\n",
            "Method:                 Least Squares   F-statistic:                     67.45\n",
            "Date:                Fri, 18 Nov 2022   Prob (F-statistic):          2.93e-188\n",
            "Time:                        08:41:31   Log-Likelihood:                -9900.1\n",
            "No. Observations:                1413   AIC:                         1.984e+04\n",
            "Df Residuals:                    1392   BIC:                         1.995e+04\n",
            "Df Model:                          20                                         \n",
            "Covariance Type:            nonrobust                                         \n",
            "===================================================================================================================\n",
            "                                                      coef    std err          t      P>|t|      [0.025      0.975]\n",
            "-------------------------------------------------------------------------------------------------------------------\n",
            "Intercept                                       -9454.5493   4395.911     -2.151      0.032   -1.81e+04    -831.225\n",
            "C(primary_use)[T.Entertainment/public assembly]   -86.8187     23.429     -3.706      0.000    -132.779     -40.858\n",
            "C(primary_use)[T.Food sales and service]           19.8674    121.207      0.164      0.870    -217.901     257.636\n",
            "C(primary_use)[T.Healthcare]                       25.7144     60.072      0.428      0.669     -92.126     143.555\n",
            "C(primary_use)[T.Lodging/residential]             -99.0082     25.651     -3.860      0.000    -149.327     -48.690\n",
            "C(primary_use)[T.Manufacturing/industrial]         -6.8355     86.453     -0.079      0.937    -176.427     162.756\n",
            "C(primary_use)[T.Office]                          -17.7378     20.516     -0.865      0.387     -57.984      22.509\n",
            "C(primary_use)[T.Other]                           -42.2360     55.704     -0.758      0.448    -151.509      67.037\n",
            "C(primary_use)[T.Parking]                        -513.1728     59.956     -8.559      0.000    -630.787    -395.559\n",
            "C(primary_use)[T.Public services]                 -90.5807     25.414     -3.564      0.000    -140.434     -40.727\n",
            "C(primary_use)[T.Religious worship]              -102.9544    155.964     -0.660      0.509    -408.904     202.995\n",
            "C(primary_use)[T.Retail]                           56.5434     82.218      0.688      0.492    -104.741     217.828\n",
            "C(primary_use)[T.Services]                       -311.8329     91.505     -3.408      0.001    -491.336    -132.330\n",
            "C(primary_use)[T.Technology/science]              -12.3833    110.707     -0.112      0.911    -229.553     204.787\n",
            "C(primary_use)[T.Utility]                          -2.7684    135.224     -0.020      0.984    -268.033     262.496\n",
            "C(primary_use)[T.Warehouse/storage]               -75.4226     78.674     -0.959      0.338    -229.756      78.911\n",
            "square_feet                                         0.0020   6.87e-05     28.457      0.000       0.002       0.002\n",
            "precip_depth_1_hr                                  95.0838      5.712     16.647      0.000      83.879     106.288\n",
            "air_temperature                                    16.2302      2.371      6.844      0.000      11.578      20.882\n",
            "wind_direction                                      1.9692      0.471      4.179      0.000       1.045       2.894\n",
            "sea_level_pressure                                  8.6527      4.298      2.013      0.044       0.222      17.084\n",
            "==============================================================================\n",
            "Omnibus:                     1491.533   Durbin-Watson:                   1.897\n",
            "Prob(Omnibus):                  0.000   Jarque-Bera (JB):           171835.102\n",
            "Skew:                           4.879   Prob(JB):                         0.00\n",
            "Kurtosis:                      56.136   Cond. No.                     8.88e+07\n",
            "==============================================================================\n",
            "\n",
            "Notes:\n",
            "[1] Standard Errors assume that the covariance matrix of the errors is correctly specified.\n",
            "[2] The condition number is large, 8.88e+07. This might indicate that there are\n",
            "strong multicollinearity or other numerical problems.\n",
            "meter_reading ~ square_feet + precip_depth_1_hr + primary_use + air_temperature + wind_direction + cloud_coverage + dew_temperature + wind_speed + 1\n",
            "0.48611497260007963\n"
          ]
        }
      ]
    },
    {
      "cell_type": "code",
      "source": [
        "#model regresi berdasarkan forward selection dari data yang telah discaling\n",
        "reg3 = ols('meter_reading ~ square_feet + precip_depth_1_hr + primary_use + air_temperature + wind_direction + cloud_coverage + dew_temperature + wind_speed + 1', df3).fit()\n",
        "print(reg3.summary())"
      ],
      "metadata": {
        "colab": {
          "base_uri": "https://localhost:8080/"
        },
        "id": "b5s7aRS90Uz9",
        "outputId": "d8f12535-57a4-4415-f608-afaf73ac0e2a"
      },
      "execution_count": null,
      "outputs": [
        {
          "output_type": "stream",
          "name": "stdout",
          "text": [
            "                            OLS Regression Results                            \n",
            "==============================================================================\n",
            "Dep. Variable:          meter_reading   R-squared:                       0.494\n",
            "Model:                            OLS   Adj. R-squared:                  0.486\n",
            "Method:                 Least Squares   F-statistic:                     61.71\n",
            "Date:                Fri, 18 Nov 2022   Prob (F-statistic):          1.42e-187\n",
            "Time:                        08:25:20   Log-Likelihood:                -9897.4\n",
            "No. Observations:                1413   AIC:                         1.984e+04\n",
            "Df Residuals:                    1390   BIC:                         1.996e+04\n",
            "Df Model:                          22                                         \n",
            "Covariance Type:            nonrobust                                         \n",
            "================================================================================================================\n",
            "                                                   coef    std err          t      P>|t|      [0.025      0.975]\n",
            "----------------------------------------------------------------------------------------------------------------\n",
            "Intercept                                     -270.2282     46.863     -5.766      0.000    -362.157    -178.299\n",
            "primary_use[T.Entertainment/public assembly]   -86.4163     23.376     -3.697      0.000    -132.272     -40.560\n",
            "primary_use[T.Food sales and service]           20.0898    121.149      0.166      0.868    -217.565     257.744\n",
            "primary_use[T.Healthcare]                       24.3785     60.178      0.405      0.685     -93.670     142.427\n",
            "primary_use[T.Lodging/residential]             -97.4012     25.609     -3.803      0.000    -147.638     -47.164\n",
            "primary_use[T.Manufacturing/industrial]         -0.7396     86.622     -0.009      0.993    -170.664     169.185\n",
            "primary_use[T.Office]                          -19.7690     20.573     -0.961      0.337     -60.127      20.589\n",
            "primary_use[T.Other]                           -44.6585     55.637     -0.803      0.422    -153.799      64.482\n",
            "primary_use[T.Parking]                        -516.4284     59.976     -8.611      0.000    -634.082    -398.775\n",
            "primary_use[T.Public services]                 -97.6886     25.544     -3.824      0.000    -147.798     -47.580\n",
            "primary_use[T.Religious worship]              -104.1349    155.897     -0.668      0.504    -409.954     201.685\n",
            "primary_use[T.Retail]                           38.0838     82.891      0.459      0.646    -124.521     200.688\n",
            "primary_use[T.Services]                       -315.6918     91.430     -3.453      0.001    -495.047    -136.337\n",
            "primary_use[T.Technology/science]              -21.5298    110.588     -0.195      0.846    -238.467     195.407\n",
            "primary_use[T.Utility]                           0.2810    135.105      0.002      0.998    -264.751     265.313\n",
            "primary_use[T.Warehouse/storage]               -84.1486     78.883     -1.067      0.286    -238.892      70.594\n",
            "square_feet                                   1699.4099     60.139     28.258      0.000    1581.437    1817.383\n",
            "precip_depth_1_hr                             1069.5608     68.976     15.506      0.000     934.253    1204.869\n",
            "air_temperature                                192.1951     44.675      4.302      0.000     104.558     279.832\n",
            "wind_direction                                 180.0827     61.430      2.932      0.003      59.578     300.588\n",
            "cloud_coverage                                  93.2140     37.038      2.517      0.012      20.557     165.871\n",
            "dew_temperature                                 71.0731     36.973      1.922      0.055      -1.456     143.603\n",
            "wind_speed                                     -94.4224     81.691     -1.156      0.248    -254.673      65.828\n",
            "==============================================================================\n",
            "Omnibus:                     1489.307   Durbin-Watson:                   1.904\n",
            "Prob(Omnibus):                  0.000   Jarque-Bera (JB):           171103.076\n",
            "Skew:                           4.867   Prob(JB):                         0.00\n",
            "Kurtosis:                      56.023   Cond. No.                         33.0\n",
            "==============================================================================\n",
            "\n",
            "Notes:\n",
            "[1] Standard Errors assume that the covariance matrix of the errors is correctly specified.\n"
          ]
        }
      ]
    },
    {
      "cell_type": "markdown",
      "source": [
        "Interpretasi:\n",
        "\n",
        "Berdasarkan AIC terkecil, maka akan digunakan model regresi ke 3 (reg3) untuk diinterpretasi.\n",
        "\n",
        "Didapatkan model sebagai berikut :\n",
        "\n",
        "**meter_reading = -270.2282 - 86.4163entertaiment + 20.0898food sales + 24.3785healthcare - 97.4012lodging - 0.7396manufacturing - 19.769office - 44.6585other - 516.4284parking - 97.6886publicservices - 104.1349religiworship + 38.0838retail - 315.6918services - 21.5298technology + 0.281utility - 84.1486warehouse + 1699.4099square_feet + 1069.5608precip + 192.1951air_temperature + 180.0827wind_direction + 93.2140cloud_coverage + 71.0731dew_temperature - 94.4224windspeed**\n",
        "\n",
        "Beberapa contoh interpretasi parameternya : \n",
        "\n",
        "* Apabila kegunaan bangunannya adalah entertaiment maka konsumsi energi (meter_reading) berkurang sebanyak 86.4163 kWh (interpretasi yg lain serupa).\n",
        "\n",
        "* Dengan asumsi variabel selain air_temperature konstan, maka konsumsi energi listrik (meter_reading) bertambah sebanyak 192.195 kWh. Hal yang sama juga terjadi dengan variabel lainnya yang memiliki koefisien positif.\n",
        "\n",
        "* Dengan asumsi variabel selain wind_speed konstan, maka konsumsi energi listrik (meter_reading) bertambah sebanyak 94.4224 kWh. Hal yang sama juga terjadi dengan variabel lainnya yang memiliki koefisien negatif.\n",
        "\n",
        "* Diasumsikan variabel selain primary_use konstan, Kategori primary_use yang paling berpengaruh dalam rata-rata penggunaan energi adalah tempat parkir (T.Parking) dan service (T.Service). Kedua jenis bangunan ini berpotensi mengurangi rata-rata penggunaan energi bangunan. Dengan kata lain, kedua jenis bangunan ini menggunakan listrik lebih sedikit daripada jenis-jenis bangunan lainnya.\n",
        "\n",
        "* Diasumsikan variabel selain square_feet konstan, maka meter_reading bertambah sebanyak 1699.4099 kWh. Berarti luas bangunan sangat mempengaruhi rata-rata penggunaan energi listrik suatu bangunan. Hal ini dapat terjadi karena beberapa kemungkinan, misal semakin luas bangunan (terutama bangunan tertutup), semakin banyak juga pencahayaan (lampu, dll) yang diperlukan. Selain itu, bangunan tertutup juga memerlukan banyak AC, terutama di perkotaan, untuk sirkulasi udara. \n",
        "\n",
        "\n",
        "\n",
        "\n",
        "\n"
      ],
      "metadata": {
        "id": "D6aFfMdf0XGT"
      }
    },
    {
      "cell_type": "markdown",
      "source": [
        "# **Kesimpulan**"
      ],
      "metadata": {
        "id": "_yWGkt4u0xII"
      }
    },
    {
      "cell_type": "markdown",
      "source": [
        "\n",
        "* Dari segi kualitas data, terdapat tipe data yang tidak sesuai yaitu tipe data variabel primary_use bertipe object yang seharusnya bertipe kategori, pada variabel floor_count dan year_built ditemukan banyak sekali missing value sehingga kolomnya di drop.\n",
        "* Tidak terdapat data yang duplikat\n",
        "* Setelah diperiksa outlier variabel meter_reading berdasarkan primary_use, outlier terbanyak ada pada kategori education (pendidikan).\n",
        "* Bangunan yang memiliki konsumsi energi paling banyak adalah bangunan dengan kegunaan utama untuk kesehatan, disusul oleh bangunan yang memiliki kegunaan utama untuk pendidikan, dan bangunan yang memiliki kegunaan utama untuk retail.\n",
        "* Bangunan yang paling banyak digunakan adalah bangunan dengan tujuan aktivitas edukasi.\n",
        "* Meter_reading (konsumsi energi) memiliki korelasi linier positif yang cukup kuat dengan square_feet (luas bangunan), yDidapatkan nilai 0,5an bahwa ada korelasi linier positif yang cukup kuat antara meter_reading (konsumsi energi) dengan square_feet (luas bangunan). Ada kecenderungan bahwa meter_reading (konsumsi energi) tinggi berkaitan dengan square_feet (luas bangunan) yang lebih luas dibandingkan dengan square_feet (luas bangunan) yang lebih sempit."
      ],
      "metadata": {
        "id": "QHP7ZVcG0zSg"
      }
    },
    {
      "cell_type": "markdown",
      "source": [
        "# **Rekomendasi**"
      ],
      "metadata": {
        "id": "lmVqmW_g1ZJq"
      }
    },
    {
      "cell_type": "markdown",
      "source": [
        "* Untuk bangunan yang merupakan fasilitas umum dan menggunakan konsumsi energi di atas rata-rata (outlier pada kategori primary use) sebaiknya dilakukan sosialisasi terhadap pihak terkait untuk melakukan aksi hemat energi.\n",
        "* Melakukan pengarahan terhadap pihak yang akan membuat bangunan di masa depan untuk lokasi bangunan sebaiknya lebih diperhatikan lagi karena variabel wind_direction signifikan yang berarti bangunan yang berhadapan dengan angin atau tidak bisa berpengaruh pada penggunaan energi.\n",
        "* Pendirian bangunan sebaiknya menghindari lokasi yang berangin kencang. Hal ini dikarenakan, angin kencang dapat meningkatkan risiko terjadinya masalah sistem listrik, seperti tiang listrik rubuh, listrik korslet, dan kabel kusut.\n",
        "* Jika lokasi bangunan luas dan memiliki tanah terbuka yang besar, kami merekomendasikan untuk mendirikan turbin angin yang dapat menghasilkan energi listrik sehingga konsumsi bangunan tidak bergantung pada energi listrik dari fosil."
      ],
      "metadata": {
        "id": "xAdAhxo31cJQ"
      }
    },
    {
      "cell_type": "markdown",
      "source": [
        "# **Referensi**"
      ],
      "metadata": {
        "id": "4vJQ1qpx5x5X"
      }
    },
    {
      "cell_type": "markdown",
      "source": [
        "https://energyeducation.ca/encyclopedia/Wind_power"
      ],
      "metadata": {
        "id": "dXYGj3DB50hu"
      }
    }
  ]
}